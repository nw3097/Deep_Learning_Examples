{
 "cells": [
  {
   "cell_type": "markdown",
   "metadata": {},
   "source": [
    "**motivation** <br>\n",
    "Last December I saw a Christmas wreath while walking in the neighborhood. It reminded me of a middle aged man I met years ago in Bentonville Arkansas, selling Christmas wreaths door to door. He said he was injuried at work, his wife made those to earn some extra cash for the kids. How did my sight of the Christmas wreath activate my memory? The Hopfield net models memory retrieval as an iterative process of a dynamical system settling down to its energy minima. When I first learned about this in Geoffrey Hinton's Coursera course <i> Neural Networks for Machine Learning </i> I was immediately captivated. In this notebook I want to play with a simple Hopfield net. The code is sourced from \n",
    "<a href=\"http://codeaffectionate.blogspot.com/2013/05/fun-with-hopfield-and-numpy.html\">this post</a> by Stefan Maetschke and <a href=\"https://github.com/tomstafford/emerge/blob/master/lecture4.ipynb\">this notebook</a> by Tom Stafford. "
   ]
  },
  {
   "cell_type": "code",
   "execution_count": 1,
   "metadata": {
    "collapsed": true
   },
   "outputs": [],
   "source": [
    "import numpy as np\n",
    "from numpy import array\n",
    "from numpy import zeros, outer, diag_indices, vectorize, dot \n",
    "from pylab import imshow, cm, show\n",
    "import matplotlib.pyplot as plt\n",
    "import random\n",
    "%matplotlib inline"
   ]
  },
  {
   "cell_type": "code",
   "execution_count": 2,
   "metadata": {
    "collapsed": true
   },
   "outputs": [],
   "source": [
    "A = \"\"\"\n",
    ".XXX.\n",
    "X...X\n",
    "XXXXX\n",
    "X...X\n",
    "X...X\n",
    "\"\"\"\n",
    " \n",
    "Z = \"\"\"\n",
    "XXXXX\n",
    "...X.\n",
    "..X..\n",
    ".X...\n",
    "XXXXX\n",
    "\"\"\""
   ]
  },
  {
   "cell_type": "code",
   "execution_count": 3,
   "metadata": {
    "collapsed": true
   },
   "outputs": [],
   "source": [
    "def to_pattern(letter):\n",
    "    '''\n",
    "    hopfield nets operate on binary vectors\n",
    "    transform a letter into a binary vector\n",
    "    '''\n",
    "    return array([+1 if c=='X' else -1 for c in letter.replace('\\n','')])"
   ]
  },
  {
   "cell_type": "code",
   "execution_count": 4,
   "metadata": {
    "collapsed": true
   },
   "outputs": [],
   "source": [
    "def display(pattern):\n",
    "    '''\n",
    "    visualize a pattern as an image\n",
    "    '''\n",
    "    imshow(pattern.reshape((5,5)),cmap=cm.binary, interpolation='nearest')\n",
    "    show()"
   ]
  },
  {
   "cell_type": "code",
   "execution_count": 5,
   "metadata": {},
   "outputs": [
    {
     "data": {
      "image/png": "[encoded data removed]",
      "text/plain": [
       "<matplotlib.figure.Figure at 0x10e45cac8>"
      ]
     },
     "metadata": {},
     "output_type": "display_data"
    }
   ],
   "source": [
    "display(to_pattern(Z))"
   ]
  },
  {
   "cell_type": "code",
   "execution_count": 6,
   "metadata": {
    "collapsed": true
   },
   "outputs": [],
   "source": [
    "# collect two patterns together\n",
    "patterns = np.array([to_pattern(A), to_pattern(Z)]) # patterns have shape 2 x 25"
   ]
  },
  {
   "cell_type": "markdown",
   "metadata": {},
   "source": [
    "**Understand what is a hopfield network**"
   ]
  },
  {
   "cell_type": "markdown",
   "metadata": {},
   "source": [
    "- Basic ingredient: A set of patterns, where each pattern is a binary vector of fixed length $L$ (in the example $L$=25)\n",
    "- A hopfield network is just an $L$ x $L$ matrix $W$, which represents a network of $L$ nodes (corresponding to the $L$ pixels in each pattern), where the edge between two nodes $i$ and $j$ is weighted by $W_{ij}$.\n",
    "- A hopfield network stores the patterns for later retrieval. Instead of storing the patterns literally as they are, a hopfield net instead stores a network of pixels as an $L$ x $L$ weight matrix, where $L$ is the number of pixels in each pattern."
   ]
  },
  {
   "cell_type": "code",
   "execution_count": 7,
   "metadata": {
    "collapsed": true
   },
   "outputs": [],
   "source": [
    "def train(patterns):\n",
    "    '''\n",
    "    for each pattern in patterns, do outer product; add these outer products, set diagonal terms to 0, then average\n",
    "    '''\n",
    "    r,c = patterns.shape\n",
    "    W = zeros((c,c))\n",
    "    for p in patterns:\n",
    "        W = W + outer(p,p)\n",
    "    W[diag_indices(c)] = 0\n",
    "    return W/r"
   ]
  },
  {
   "cell_type": "markdown",
   "metadata": {},
   "source": [
    "**How to recall a stored pattern from a hopfield net?**<br>\n",
    "To query a hopfield net W with a pattern p is first to dot product p with W, then squash the result into a binary vector, then iterate the dot product and the squash a number of steps"
   ]
  },
  {
   "cell_type": "code",
   "execution_count": 8,
   "metadata": {
    "collapsed": true
   },
   "outputs": [],
   "source": [
    "def recall(W, patterns, steps=1):\n",
    "    '''\n",
    "    W: a hopfield net\n",
    "    patterns: a set of patterns, each pattern is a fixed length binary vector\n",
    "    steps: number of iterations\n",
    "    return stored patterns\n",
    "    '''\n",
    "    sgn = vectorize(lambda x: -1 if x<0 else +1)\n",
    "    for _ in range(steps):        \n",
    "        patterns = sgn(dot(patterns,W))\n",
    "    return patterns"
   ]
  },
  {
   "cell_type": "markdown",
   "metadata": {},
   "source": [
    "**Now let's test our HN with some noisy patterns**"
   ]
  },
  {
   "cell_type": "code",
   "execution_count": 9,
   "metadata": {
    "collapsed": true
   },
   "outputs": [],
   "source": [
    "def degrade(patterns,noise,seed=None):\n",
    "    '''\n",
    "    patterns: a set of patterns, to be made noisy\n",
    "    noise: the probability with which each pixel will be flipped\n",
    "    return: noisy patterns\n",
    "    '''\n",
    "    random.seed(seed)\n",
    "    sgn=np.vectorize(lambda x: x*-1 if random.random()<noise else x)\n",
    "    out=sgn(patterns)\n",
    "    return out"
   ]
  },
  {
   "cell_type": "code",
   "execution_count": 10,
   "metadata": {},
   "outputs": [
    {
     "data": {
      "image/png": "[encoded data removed]",
      "text/plain": [
       "<matplotlib.figure.Figure at 0x1105dbda0>"
      ]
     },
     "metadata": {},
     "output_type": "display_data"
    }
   ],
   "source": [
    "# when I added a little bit noise, it looks like this:\n",
    "noisy_pattern = degrade(to_pattern(Z), 0.1)\n",
    "display(noisy_pattern)"
   ]
  },
  {
   "cell_type": "code",
   "execution_count": 11,
   "metadata": {},
   "outputs": [
    {
     "data": {
      "image/png": "[encoded data removed]",
      "text/plain": [
       "<matplotlib.figure.Figure at 0x110816198>"
      ]
     },
     "metadata": {},
     "output_type": "display_data"
    }
   ],
   "source": [
    "# now is my HN able to recognize the noisy pattern?\n",
    "# yes! I've seen one instance where it failed, but for the most part it succeeded!\n",
    "W = train(patterns)\n",
    "display(recall(W, noisy_pattern, steps=5))"
   ]
  },
  {
   "cell_type": "markdown",
   "metadata": {},
   "source": [
    "**Energy**<br>\n",
    "patterns stored as low energy states, the iterative process in recall is to trace the trajectory of an input pattern to its attractor. for a given pattern $p$ and a hopfield net $W$, the energy of $p$ is $$E(p) = pWp^T$$"
   ]
  },
  {
   "cell_type": "code",
   "execution_count": 12,
   "metadata": {
    "collapsed": true
   },
   "outputs": [],
   "source": [
    "def hopfield_energy(W, patterns):\n",
    "    '''\n",
    "    W: a hopfield net\n",
    "    patterns: a collection of patterns, where each pattern is a fixed length binary vector\n",
    "    return: energy of each pattern in patterns\n",
    "    '''\n",
    "    return array([-0.5*dot(dot(p.T,W),p) for p in patterns])"
   ]
  },
  {
   "cell_type": "code",
   "execution_count": 13,
   "metadata": {},
   "outputs": [
    {
     "name": "stdout",
     "output_type": "stream",
     "text": [
      "[-6.]\n",
      "[-50.]\n",
      "[-150.]\n",
      "[-150.]\n",
      "[-150.]\n"
     ]
    }
   ],
   "source": [
    "# test the energy function using a noisy A\n",
    "# in this test when seed = 7, it triggered the wrong memory!\n",
    "# when seed = 11, it triggered the right memory after two steps!\n",
    "steps = 5\n",
    "noisy_A = degrade(to_pattern(A), 0.3, seed = 11)\n",
    "sgn = vectorize(lambda x: -1 if x<0 else +1)\n",
    "a = noisy_A\n",
    "for _ in range(steps):        \n",
    "    print(hopfield_energy(W, [a]))\n",
    "    a = sgn(dot(a,W))"
   ]
  },
  {
   "cell_type": "code",
   "execution_count": 14,
   "metadata": {},
   "outputs": [
    {
     "data": {
      "image/png": "[encoded data removed]",
      "text/plain": [
       "<matplotlib.figure.Figure at 0x1108c1978>"
      ]
     },
     "metadata": {},
     "output_type": "display_data"
    }
   ],
   "source": [
    "# visualize memory retrieval\n",
    "patterns = [noisy_A, recall(W, noisy_A, steps=1), recall(W, noisy_A, steps=2)]\n",
    "f,ax = plt.subplots(1,len(patterns))\n",
    "for i in range(len(patterns)):\n",
    "    ax[i].imshow(patterns[i].reshape((5,5)),cmap=cm.binary, interpolation='nearest')\n",
    "plt.show() "
   ]
  },
  {
   "cell_type": "code",
   "execution_count": 15,
   "metadata": {
    "collapsed": true
   },
   "outputs": [],
   "source": [
    "def f(noise, W):\n",
    "    '''\n",
    "    noise: the probability with which each pixel will be flipped\n",
    "    W: a hopfield net\n",
    "    return: the energy of a noisy pattern\n",
    "    '''\n",
    "    p = degrade(to_pattern(A), noise)\n",
    "    return hopfield_energy(W, [p])"
   ]
  },
  {
   "cell_type": "code",
   "execution_count": 16,
   "metadata": {},
   "outputs": [
    {
     "data": {
      "text/plain": [
       "[<matplotlib.lines.Line2D at 0x110a8b198>]"
      ]
     },
     "execution_count": 16,
     "metadata": {},
     "output_type": "execute_result"
    },
    {
     "data": {
      "image/png": "[encoded data removed]",
      "text/plain": [
       "<matplotlib.figure.Figure at 0x11090eb38>"
      ]
     },
     "metadata": {},
     "output_type": "display_data"
    }
   ],
   "source": [
    "# notice that noise is loudest when noise = 0.5, when noise is low (noise close to 0 or 1), energy of pattern is low\n",
    "x = np.linspace(0, 1, num=50).tolist()\n",
    "y = [f(z, W) for z in x]\n",
    "plt.plot(x, y)"
   ]
  },
  {
   "cell_type": "markdown",
   "metadata": {},
   "source": [
    "**what happens when you feed my HN with a flipped A?**<br>\n",
    "it returns a flipped A as well! and when you feed my HN with an imperfect flipped A, it will return a perfect flipped A!"
   ]
  },
  {
   "cell_type": "code",
   "execution_count": 17,
   "metadata": {},
   "outputs": [
    {
     "data": {
      "image/png": "[encoded data removed]",
      "text/plain": [
       "<matplotlib.figure.Figure at 0x110ab5278>"
      ]
     },
     "metadata": {},
     "output_type": "display_data"
    }
   ],
   "source": [
    "noisy_A = degrade(to_pattern(A), 1)\n",
    "display(noisy_A)"
   ]
  },
  {
   "cell_type": "code",
   "execution_count": 18,
   "metadata": {},
   "outputs": [
    {
     "data": {
      "image/png": "[encoded data removed]",
      "text/plain": [
       "<matplotlib.figure.Figure at 0x110ab54e0>"
      ]
     },
     "metadata": {},
     "output_type": "display_data"
    }
   ],
   "source": [
    "display((recall(W, noisy_A, steps=5)))"
   ]
  },
  {
   "cell_type": "code",
   "execution_count": 19,
   "metadata": {},
   "outputs": [
    {
     "data": {
      "image/png": "[encoded data removed]",
      "text/plain": [
       "<matplotlib.figure.Figure at 0x10e5052b0>"
      ]
     },
     "metadata": {},
     "output_type": "display_data"
    }
   ],
   "source": [
    "noisy_A = degrade(to_pattern(A), 0.9)\n",
    "display(noisy_A)"
   ]
  },
  {
   "cell_type": "code",
   "execution_count": 20,
   "metadata": {},
   "outputs": [
    {
     "data": {
      "image/png": "[encoded data removed]",
      "text/plain": [
       "<matplotlib.figure.Figure at 0x110c70f60>"
      ]
     },
     "metadata": {},
     "output_type": "display_data"
    }
   ],
   "source": [
    "display((recall(W, noisy_A, steps=5)))"
   ]
  },
  {
   "cell_type": "markdown",
   "metadata": {},
   "source": [
    "**Discussion**<br><br>\n",
    "Underlying a hopfield net is a dynamical system. The ingredients of this system are as follows:\n",
    "1. state: in our case a state is a pattern, it's a binary vector of fixed length\n",
    "2. law of motion for states: for a given input pattern $p$, the output pattern is $sgn(pW)$, where the sign function and the $W$ matrix is defined earlier in this notebook. $W$ is also known as the hopfield net, because it defines a weighted network with the pixels as nodes.\n",
    "3. a Lyapunov function $E(p) = pWp^T$, such that as the states evolve according to the law of motion in 2, the value of $E(p)$, or energy, cannot go up.\n",
    "4. memories are thus modeled as energy minima in this dynamical system."
   ]
  }
 ],
 "metadata": {
  "kernelspec": {
   "display_name": "Python 3",
   "language": "python",
   "name": "python3"
  },
  "language_info": {
   "codemirror_mode": {
    "name": "ipython",
    "version": 3
   },
   "file_extension": ".py",
   "mimetype": "text/x-python",
   "name": "python",
   "nbconvert_exporter": "python",
   "pygments_lexer": "ipython3",
   "version": "3.5.2"
  }
 },
 "nbformat": 4,
 "nbformat_minor": 2
}
